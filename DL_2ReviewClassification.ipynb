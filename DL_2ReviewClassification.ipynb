{
  "nbformat": 4,
  "nbformat_minor": 0,
  "metadata": {
    "colab": {
      "provenance": []
    },
    "kernelspec": {
      "name": "python3",
      "display_name": "Python 3"
    },
    "language_info": {
      "name": "python"
    }
  },
  "cells": [
    {
      "cell_type": "code",
      "execution_count": 7,
      "metadata": {
        "colab": {
          "base_uri": "https://localhost:8080/"
        },
        "id": "1ScpbvKCYNlx",
        "outputId": "70c1b602-c12b-4ee6-aa33-ec0dea34b741"
      },
      "outputs": [
        {
          "output_type": "stream",
          "name": "stdout",
          "text": [
            "Epoch 1/4\n",
            "40/40 [==============================] - 1s 8ms/step - loss: 0.6930 - accuracy: 0.5007 - val_loss: 0.6929 - val_accuracy: 0.5086\n",
            "Epoch 2/4\n",
            "40/40 [==============================] - 0s 4ms/step - loss: 0.6926 - accuracy: 0.5104 - val_loss: 0.6927 - val_accuracy: 0.5074\n",
            "Epoch 3/4\n",
            "40/40 [==============================] - 0s 3ms/step - loss: 0.6921 - accuracy: 0.5132 - val_loss: 0.6923 - val_accuracy: 0.5088\n",
            "Epoch 4/4\n",
            "40/40 [==============================] - 0s 4ms/step - loss: 0.6915 - accuracy: 0.5105 - val_loss: 0.6919 - val_accuracy: 0.5098\n",
            "Enter your movie review: worst movie ever\n",
            "1/1 [==============================] - 0s 60ms/step\n",
            "The review is classified as: Negative\n"
          ]
        }
      ],
      "source": [
        "import numpy as np\n",
        "from keras.datasets import imdb\n",
        "from keras.models import Sequential\n",
        "from keras.layers import Dense\n",
        "from keras.preprocessing.sequence import pad_sequences\n",
        "\n",
        "# Load the IMDB dataset\n",
        "(x_train, y_train), (_, _) = imdb.load_data(num_words=10000)  # We only need training data for this example\n",
        "\n",
        "# Vectorize the sequences\n",
        "def vectorize_sequences(sequences, dimension=10000):\n",
        "    results = np.zeros((len(sequences), dimension))\n",
        "    for i, sequence in enumerate(sequences):\n",
        "        results[i, sequence] = 1.\n",
        "    return results\n",
        "\n",
        "x_train = vectorize_sequences(x_train)\n",
        "\n",
        "# Pad sequences to have consistent length\n",
        "maxlen = 100\n",
        "x_train = pad_sequences(x_train, maxlen=maxlen)\n",
        "\n",
        "# Define the model\n",
        "model = Sequential()\n",
        "model.add(Dense(16, activation='relu', input_shape=(maxlen,)))\n",
        "model.add(Dense(16, activation='relu'))\n",
        "model.add(Dense(1, activation='sigmoid'))\n",
        "\n",
        "# Compile the model\n",
        "model.compile(optimizer='adam', loss='binary_crossentropy', metrics=['accuracy'])\n",
        "\n",
        "# Train the model\n",
        "model.fit(x_train, y_train, epochs=4, batch_size=512, validation_split=0.2)\n",
        "\n",
        "# Function to preprocess and classify user input\n",
        "def classify_review(review):\n",
        "    # Convert review to sequence\n",
        "    word_index = imdb.get_word_index()\n",
        "    review = review.lower().split()\n",
        "    review = [word_index[word] if word in word_index and word_index[word] < 10000 else 0 for word in review]\n",
        "    if len(review) == 0:\n",
        "        return \"Invalid review\"  # No valid words found in the review\n",
        "    review = pad_sequences([review], maxlen=maxlen)\n",
        "    # Predict sentiment\n",
        "    prediction = model.predict(review)\n",
        "    if prediction[0] > 0.5:\n",
        "        return \"Positive\"\n",
        "    else:\n",
        "        return \"Negative\"\n",
        "\n",
        "# User input for a movie review\n",
        "user_review = input(\"Enter your movie review: \")\n",
        "\n",
        "# Classify the review\n",
        "result = classify_review(user_review)\n",
        "print(\"The review is classified as:\", result)\n"
      ]
    }
  ]
}